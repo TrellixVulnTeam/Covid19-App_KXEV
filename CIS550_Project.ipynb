{
  "nbformat": 4,
  "nbformat_minor": 0,
  "metadata": {
    "colab": {
      "name": "CIS550_Project",
      "provenance": [],
      "authorship_tag": "ABX9TyN3pRcldrPWa09suH+n5JEj",
      "include_colab_link": true
    },
    "kernelspec": {
      "name": "python3",
      "display_name": "Python 3"
    },
    "language_info": {
      "name": "python"
    }
  },
  "cells": [
    {
      "cell_type": "markdown",
      "metadata": {
        "id": "view-in-github",
        "colab_type": "text"
      },
      "source": [
        "<a href=\"https://colab.research.google.com/github/andongl1997/CIS550-Final-Project/blob/main/CIS550_Project.ipynb\" target=\"_parent\"><img src=\"https://colab.research.google.com/assets/colab-badge.svg\" alt=\"Open In Colab\"/></a>"
      ]
    },
    {
      "cell_type": "markdown",
      "metadata": {
        "id": "4UQisTPVNvf3"
      },
      "source": [
        "#Part 0 - Settings"
      ]
    },
    {
      "cell_type": "code",
      "metadata": {
        "id": "Wkvf_wObFGh5"
      },
      "source": [
        "from google.colab import drive \n"
      ],
      "execution_count": null,
      "outputs": []
    },
    {
      "cell_type": "markdown",
      "metadata": {
        "id": "Jk1Ow3iUFLAH"
      },
      "source": [
        ""
      ]
    }
  ]
}