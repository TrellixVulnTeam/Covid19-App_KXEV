{
  "nbformat": 4,
  "nbformat_minor": 0,
  "metadata": {
    "colab": {
      "name": "550test.ipynb",
      "provenance": [],
      "authorship_tag": "ABX9TyNeBeCtMZtVYX1IjOCrrw3G",
      "include_colab_link": true
    },
    "kernelspec": {
      "name": "python3",
      "display_name": "Python 3"
    },
    "language_info": {
      "name": "python"
    }
  },
  "cells": [
    {
      "cell_type": "markdown",
      "metadata": {
        "id": "view-in-github",
        "colab_type": "text"
      },
      "source": [
        "<a href=\"https://colab.research.google.com/github/andongl1997/CIS550-Final-Project/blob/main/550test.ipynb\" target=\"_parent\"><img src=\"https://colab.research.google.com/assets/colab-badge.svg\" alt=\"Open In Colab\"/></a>"
      ]
    },
    {
      "cell_type": "code",
      "metadata": {
        "colab": {
          "base_uri": "https://localhost:8080/"
        },
        "id": "1r76jQWN_6Au",
        "outputId": "31404d9d-4e79-4951-c73d-aa04fc0ba01f"
      },
      "source": [
        "import pandas\n",
        "print(\"550 test\")"
      ],
      "execution_count": 2,
      "outputs": [
        {
          "output_type": "stream",
          "text": [
            "550 test\n"
          ],
          "name": "stdout"
        }
      ]
    }
  ]
}